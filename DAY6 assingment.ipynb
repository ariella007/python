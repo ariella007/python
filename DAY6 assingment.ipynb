{
 "cells": [
  {
   "cell_type": "markdown",
   "metadata": {},
   "source": [
    "Create a multi-level inheritance , override default constructors in the child classes , instantiate the child class and show how will u invoke parent class constructor from child class ?"
   ]
  },
  {
   "cell_type": "code",
   "execution_count": 9,
   "metadata": {},
   "outputs": [
    {
     "name": "stdout",
     "output_type": "stream",
     "text": [
      "base1 disp1\n",
      "sub base1\n",
      "sub1 sub\n"
     ]
    }
   ],
   "source": [
    "class base1:\n",
    "    def __init__(self):\n",
    "        print(\"base1 disp1\")\n",
    "\n",
    "class sub(base1):\n",
    "    def __init__(self):\n",
    "        super().__init__()\n",
    "        print(\"sub base1\")\n",
    "class sub1(sub):\n",
    "    def __init__(self):\n",
    "        super().__init__()\n",
    "        print(\"sub1 sub\")\n",
    "\n",
    "s1=sub1()"
   ]
  },
  {
   "cell_type": "markdown",
   "metadata": {},
   "source": [
    "2) create a class \"Vehicle\", define a method \"public void start()\" in it. From this class derive a class FourWheeler. How will u override \"start()\" method of parent class ?"
   ]
  },
  {
   "cell_type": "code",
   "execution_count": 11,
   "metadata": {},
   "outputs": [
    {
     "name": "stdout",
     "output_type": "stream",
     "text": [
      "start fourwheeler\n"
     ]
    }
   ],
   "source": [
    "class Vehicle:\n",
    "    def start(self):\n",
    "        print(\"vehicle from parent\")\n",
    "\n",
    "class forWheeler(Vehicle):\n",
    "    def start(self):\n",
    "        print(\"start fourwheeler\")\n",
    "\n",
    "def perform(ref):\n",
    "    ref.start()\n",
    "\n",
    "perform(forWheeler())"
   ]
  },
  {
   "cell_type": "markdown",
   "metadata": {},
   "source": [
    "Go for Hierarchical inheritance, create instances of child class and observe constructor invocation."
   ]
  },
  {
   "cell_type": "code",
   "execution_count": 12,
   "metadata": {},
   "outputs": [
    {
     "name": "stdout",
     "output_type": "stream",
     "text": [
      "base1 disp1\n",
      "sub2 class\n",
      "sub1 class\n",
      "super sub class\n"
     ]
    }
   ],
   "source": [
    "class Base1:\n",
    "   def __init__(self):\n",
    "      print(\"base class\")\n",
    "\n",
    "class sub1(base1):\n",
    "   def __init__(self):\n",
    "      super().__init__()\n",
    "      print(\"sub1 class\")\n",
    "\n",
    "class sub2(base1):\n",
    "   def __init__(self):\n",
    "      super().__init__()\n",
    "      print(\"sub2 class\")\n",
    "\n",
    "class supsub(sub1,sub2):\n",
    "   def __init__(self):\n",
    "      super().__init__()\n",
    "      print(\"super sub class\")\n",
    "\n",
    "s=supsub()\n",
    "    "
   ]
  },
  {
   "cell_type": "markdown",
   "metadata": {},
   "source": [
    "Create a class \"Top1\" with \"disp1()\" method.\n",
    "From this class Derive \"Bottom1\", \"Bottom2\" and \"Bottom3\" classes ,override the \"disp1()\".\n",
    "create a function \"perform\" which can take argument as object of any child class.\n",
    "Now show how will u achieve dynamic polymorphism."
   ]
  },
  {
   "cell_type": "code",
   "execution_count": 1,
   "metadata": {},
   "outputs": [
    {
     "name": "stdout",
     "output_type": "stream",
     "text": [
      "bottom1 disp1\n",
      "bottom2 disp1\n",
      "bottom3 disp1\n"
     ]
    }
   ],
   "source": [
    "class top1:\n",
    "    def disp1 (self):\n",
    "        print(\" disp1 top1\")\n",
    "\n",
    "class Bottom1(top1):\n",
    "    def disp1 (self):\n",
    "        print(\"bottom1 disp1\")\n",
    "\n",
    "class Bottom2(top1):\n",
    "    def disp1 (self):\n",
    "        print(\"bottom2 disp1\")\n",
    "\n",
    "class Bottom3(top1):\n",
    "    def disp1 (self):\n",
    "        print(\"bottom3 disp1\")\n",
    "\n",
    "def perform(ref):\n",
    "    ref.disp1()\n",
    "\n",
    "perform(Bottom1())\n",
    "perform(Bottom2())\n",
    "perform(Bottom3())"
   ]
  },
  {
   "cell_type": "markdown",
   "metadata": {},
   "source": [
    "create Base class and Sub class with parameterized constructors. Show how will you invoke Base class parameterized constructor from Sub class."
   ]
  },
  {
   "cell_type": "code",
   "execution_count": 3,
   "metadata": {},
   "outputs": [
    {
     "name": "stdout",
     "output_type": "stream",
     "text": [
      "base class 100\n",
      "sub1 base\n",
      "sub class  200\n"
     ]
    }
   ],
   "source": [
    "class base:\n",
    "    def __init__(self,num1):\n",
    "        self.num1=num1\n",
    "        print(\"base class\",self.num1)\n",
    "    def disp1(self):\n",
    "        print(\"base base\")\n",
    "\n",
    "class sub1(base):\n",
    "    def __init__(self):\n",
    "        super().__init__(100)\n",
    "        print(\"sub1 base\")\n",
    "    def disp1(self,num2):\n",
    "        print(\"sub class \",num2)\n",
    "\n",
    "s1=sub1()\n",
    "s1.disp1(200)\n",
    "\n",
    "\n",
    "        "
   ]
  },
  {
   "cell_type": "markdown",
   "metadata": {},
   "source": [
    "create a hierarchy\n",
    "\n",
    "\t\t\t\tAnimal\n",
    "\n",
    "\t\t\t\t\tvoid makeSound()\n",
    "\t\t\t\t\t\n",
    "override \"makeSound()\" in all the child classes.\n",
    "\n",
    "\t\tDog\t\tCat\t\tTiger\n",
    "\t\t\t\t\t\t\tvoid hunting()\n",
    "\n",
    "\n",
    "\n",
    "define perform function.\n",
    "\n",
    "\tperform function should be defined in such a way that it can accept any animal and invoke \"makeSound()\" function.\n",
    "\n",
    "\talso make sure if \"Tiger\" is passed , its \"hunting()\" method also should be called"
   ]
  },
  {
   "cell_type": "code",
   "execution_count": 8,
   "metadata": {},
   "outputs": [
    {
     "name": "stdout",
     "output_type": "stream",
     "text": [
      "bark\n",
      "meow\n",
      "hunting\n",
      "roar\n"
     ]
    }
   ],
   "source": [
    "class Animal:\n",
    "    def makeSound(self):\n",
    "        pass\n",
    "\n",
    "class dog(Animal):\n",
    "    def makeSound(self):\n",
    "        print(\"bark\")\n",
    "\n",
    "class cat(Animal):\n",
    "    def makeSound(self):\n",
    "        print(\"meow\")\n",
    "\n",
    "class tiger(Animal):\n",
    "    def makeSound(self):\n",
    "        print(\"roar\")\n",
    "    def hunting(self):\n",
    "        print(\"hunting\")\n",
    "\n",
    "def perform(ref):\n",
    "    if isinstance(ref,tiger):\n",
    "        ref.hunting()\n",
    "    \n",
    "    ref.makeSound()\n",
    "\n",
    "perform(dog())\n",
    "perform(cat())\n",
    "perform(tiger())"
   ]
  },
  {
   "cell_type": "markdown",
   "metadata": {},
   "source": [
    "create a hierarchy\n",
    "\n",
    "\t\t\t\tCourse\n",
    "\n",
    "\t\t\t\t\tvoid start()\n",
    "\t\t\t\t\tvoid end()\n",
    "\n",
    "override \"start()\" and \"end()\" in all the child classes.\n",
    "\n",
    "\t\tMsCit\t\tBasic\t\tDbda\n",
    "\t\t\t\t\t\t\tvoid orientation()\n",
    "\n",
    "\n",
    "\n",
    "write a function \"perform\"\n",
    "\n",
    "\tperform function should be defined in such a way that it can accept any course and invoke \"start()\" and \"end()\" functions.\n",
    "\n",
    "\talso make sure if \"Dbda\" is passed , its \"orientation()\" method also should be called.\n",
    "\n"
   ]
  },
  {
   "cell_type": "code",
   "execution_count": 7,
   "metadata": {},
   "outputs": [
    {
     "name": "stdout",
     "output_type": "stream",
     "text": [
      "start mscit course\n",
      "end mscit course\n",
      "start basic course\n",
      "end basic course\n",
      "orientation\n",
      "start DBDA course\n",
      "end DBDA course\n"
     ]
    }
   ],
   "source": [
    "class Course:\n",
    "    def start(self):\n",
    "        pass\n",
    "\n",
    "\n",
    "class Mscit(Course):\n",
    "    def start(self):\n",
    "        print(\"start mscit course\")\n",
    "    def end(self):\n",
    "        print(\"end mscit course\")\n",
    "\n",
    "class Basic (Course):\n",
    "    def start(self):\n",
    "        print(\"start basic course\")\n",
    "    def end(self):\n",
    "        print(\"end basic course\")\n",
    "\n",
    "class DBDA(Course):\n",
    "    def start(self):\n",
    "        print(\"start DBDA course\")\n",
    "    def end(self):\n",
    "        print(\"end DBDA course\")\n",
    "    def orientation(self):\n",
    "        print(\"orientation\")\n",
    "\n",
    "def perform(ref):\n",
    "    if isinstance(ref,DBDA):\n",
    "        ref.orientation()\n",
    "\n",
    "    ref.start()\n",
    "    ref.end()\n",
    "\n",
    "\n",
    "perform(Mscit())\n",
    "perform(Basic())\n",
    "perform(DBDA())\n",
    "\n"
   ]
  }
 ],
 "metadata": {
  "kernelspec": {
   "display_name": "Python 3",
   "language": "python",
   "name": "python3"
  },
  "language_info": {
   "codemirror_mode": {
    "name": "ipython",
    "version": 3
   },
   "file_extension": ".py",
   "mimetype": "text/x-python",
   "name": "python",
   "nbconvert_exporter": "python",
   "pygments_lexer": "ipython3",
   "version": "3.12.0"
  }
 },
 "nbformat": 4,
 "nbformat_minor": 2
}
