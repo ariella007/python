{
 "cells": [
  {
   "cell_type": "markdown",
   "metadata": {},
   "source": [
    "56. Write a Python program to convert a string to a list. "
   ]
  },
  {
   "cell_type": "code",
   "execution_count": 1,
   "metadata": {},
   "outputs": [
    {
     "name": "stdout",
     "output_type": "stream",
     "text": [
      "({'komal', 'patil', 'salunkhe', 'sakshi'},)\n",
      "<class 'list'>\n",
      "[{'komal', 'patil', 'salunkhe', 'sakshi'}]\n"
     ]
    }
   ],
   "source": [
    "mystring={\"sakshi\",\"salunkhe\",\"komal\",\"patil\"},\n",
    "print(mystring)\n",
    "mystr2=list(mystring)\n",
    "print(type(mystr2))\n",
    "print(mystr2)"
   ]
  },
  {
   "cell_type": "markdown",
   "metadata": {},
   "source": [
    "57. Write a Python program to check whether all items of a list is equal to a given string. "
   ]
  },
  {
   "cell_type": "code",
   "execution_count": 21,
   "metadata": {},
   "outputs": [
    {
     "name": "stdout",
     "output_type": "stream",
     "text": [
      "[23, 'sakshi', 8]\n",
      "Same \n"
     ]
    }
   ],
   "source": [
    "mylist=[23,\"sakshi\",8]\n",
    "mylist1=[23,\"sakshi\",8]\n",
    "mylist2=[23,\"komal\",'7']\n",
    "print(mylist)\n",
    "c=0\n",
    "for i,j in zip(mylist,mylist1):\n",
    "    if i == j:\n",
    "        c=c+1\n",
    "    else:\n",
    "        break\n",
    "if c==mylist.__len__():\n",
    "    print(\"Same \")\n",
    "\n",
    "\n",
    "\n"
   ]
  },
  {
   "cell_type": "code",
   "execution_count": 29,
   "metadata": {},
   "outputs": [
    {
     "name": "stdout",
     "output_type": "stream",
     "text": [
      "[1, 3, 5, 7, 9, 10]\n",
      "[2, 4, 6, 8]\n",
      "[1, 3, 5, 7, 9, 2, 4, 6, 8]\n"
     ]
    }
   ],
   "source": [
    "mylist=[1, 3, 5, 7, 9, 10]\n",
    "print(mylist)\n",
    "#mylist1=[2, 4, 6, 8]\n",
    "#print(mylist1)\n",
    "mylist.remove(10)\n",
    "mylist.extend([2, 4, 6, 8])\n",
    "print(mylist)\n",
    "mylist[5]=([2, 4, 6, 8])\n",
    "print(mylist)"
   ]
  },
  {
   "cell_type": "markdown",
   "metadata": {},
   "source": [
    "Write a Python program to check whether the n-th element exists in a given list. "
   ]
  },
  {
   "cell_type": "code",
   "execution_count": null,
   "metadata": {},
   "outputs": [],
   "source": [
    "mylist=[1, 3, 5, 7, 9, 2, 4, 6, 8]\n",
    "i=int(input(\"enter the number\"))\n",
    "if i in mylist:\n",
    "    \n",
    "\n"
   ]
  }
 ],
 "metadata": {
  "kernelspec": {
   "display_name": "Python 3",
   "language": "python",
   "name": "python3"
  },
  "language_info": {
   "codemirror_mode": {
    "name": "ipython",
    "version": 3
   },
   "file_extension": ".py",
   "mimetype": "text/x-python",
   "name": "python",
   "nbconvert_exporter": "python",
   "pygments_lexer": "ipython3",
   "version": "3.12.0"
  }
 },
 "nbformat": 4,
 "nbformat_minor": 2
}
