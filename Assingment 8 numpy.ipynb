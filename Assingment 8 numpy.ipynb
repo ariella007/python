{
 "cells": [
  {
   "cell_type": "markdown",
   "metadata": {},
   "source": [
    "1) create a list, accept 5 numbers , store them in the list and finally convert that list to numpy array.\n",
    "\n",
    "2) create numpy array of 5 numbers and print their sum\n",
    "\n",
    "3) create numpy double dimension array of 3*3 to store your initial and display them in a tabular form.\n",
    "\n",
    "4) create one-d numpy array of 12 elements , accept 12 numbers and display them. Now convert this one-d array into (4*3) two-d array and display it in a tabular form.\n",
    "\n",
    "5) create two double dimension array and arrange (stack) them using \"axis=0\" \"axis=1\" and  \"axis=2\".\n",
    "\n",
    "\n",
    "6) create two one-d arrays and then find out:\n",
    "\ta) common elements of both the array\n",
    "\tb) unique elements of first array\n",
    "\tc) unique elements of second array\n",
    "\n",
    "7) accept no.of rows and no. of cols from the user , create two-d array accordingly. Now calculate the sum as per \"axis=0\" and \"axis=1\"\n",
    "\n",
    "8) declare two 2d arrays and calculate the sum as per \"axis=0\" \"axis=1\" and \"axis=2\"\n",
    "\n",
    "9) create two-d array ,display it. Now accept a number from user and perform all arithmetic operations on each and every element of the array using that number.\n",
    "\n",
    "\n",
    "10) accept start, end and how many numbers to be generated and then using \"linspace\" create numpy array.\n",
    "11) create one-d array of 8 numbers and then using \"slicing\" concept,\n",
    "\ta) print numbers from 1 to 4\n",
    "\tb) print all the numbers from 3rd position\n",
    "\tc) print last 3 numbers\n",
    "\n",
    "12) create 2 d array (4*3) with following values:\n",
    "[[10,20,30,40],[50,60,70,80],[90,100,110,120]]\n",
    "\n",
    "now using array slicing concept display following values\n",
    "\ta) display   50  60  70  80\n",
    "\tb) display 100 and 110\n",
    "\tc) display 30 70 and 110\n",
    "\td) display 50  60  90 and 100\n"
   ]
  },
  {
   "cell_type": "markdown",
   "metadata": {},
   "source": [
    "1) create a list, accept 5 numbers , store them in the list and finally convert that list to numpy array."
   ]
  },
  {
   "cell_type": "code",
   "execution_count": 4,
   "metadata": {},
   "outputs": [],
   "source": [
    "import numpy as np\n",
    "list=[]\n",
    "for i in range(5):\n",
    "    num=int(input(\"enter the number: \"))\n",
    "    list.append(num)\n",
    "print(list)\n",
    "first=np.array(list)\n",
    "print(list)"
   ]
  },
  {
   "cell_type": "markdown",
   "metadata": {},
   "source": [
    "2) create numpy array of 5 numbers and print their sum\n"
   ]
  },
  {
   "cell_type": "code",
   "execution_count": 3,
   "metadata": {},
   "outputs": [
    {
     "name": "stdout",
     "output_type": "stream",
     "text": [
      "[21 22 23 24 25]\n",
      "115\n"
     ]
    }
   ],
   "source": [
    "import numpy as np\n",
    "first=np.array([21,22,23,24,25])\n",
    "print(first)\n",
    "second=np.sum(first)\n",
    "print(second)\n"
   ]
  },
  {
   "cell_type": "markdown",
   "metadata": {},
   "source": [
    "3) create numpy double dimension array of 3*3 to store your initial and display them in a tabular form."
   ]
  },
  {
   "cell_type": "code",
   "execution_count": 10,
   "metadata": {},
   "outputs": [
    {
     "name": "stdout",
     "output_type": "stream",
     "text": [
      "[[10 20 30]\n",
      " [40 50 60]\n",
      " [70 80 90]]\n",
      "((10, 20, 30), (40, 50, 60), (70, 80, 90))\n",
      "[[10, 20, 30], [40, 50, 60], [70, 80, 90]]\n"
     ]
    }
   ],
   "source": [
    "import numpy as np\n",
    "first=np.arange(10,91,10).reshape(3,3)\n",
    "print(first)\n",
    "second=tuple(map(tuple,first))\n",
    "print(second)\n",
    "third=list(map(list,first))\n",
    "print(third)"
   ]
  },
  {
   "cell_type": "markdown",
   "metadata": {},
   "source": [
    "4) create one-d numpy array of 12 elements , accept 12 numbers and display them. Now convert this one-d array into (4*3) two-d array and display it in a tabular form."
   ]
  },
  {
   "cell_type": "code",
   "execution_count": 15,
   "metadata": {},
   "outputs": [
    {
     "name": "stdout",
     "output_type": "stream",
     "text": [
      "[66 64 41 39 29 20 37 81 48 61 37 63]\n",
      "[[66 64 41]\n",
      " [39 29 20]\n",
      " [37 81 48]\n",
      " [61 37 63]]\n",
      "((66, 64, 41), (39, 29, 20), (37, 81, 48), (61, 37, 63))\n"
     ]
    }
   ],
   "source": [
    "import numpy as np\n",
    "first=np.random.randint(20,100,12)\n",
    "print(first)\n",
    "first.shape=(4,3)\n",
    "print(first)\n",
    "second=tuple(map(tuple,first))\n",
    "print(second)"
   ]
  },
  {
   "cell_type": "markdown",
   "metadata": {},
   "source": [
    "5) create two double dimension array and arrange (stack) them using \"axis=0\" \"axis=1\" and  \"axis=2\""
   ]
  },
  {
   "cell_type": "code",
   "execution_count": 16,
   "metadata": {},
   "outputs": [
    {
     "name": "stdout",
     "output_type": "stream",
     "text": [
      "[[[ 1  2  3]\n",
      "  [ 3  4  5]]\n",
      "\n",
      " [[ 7  8  9]\n",
      "  [10 12 13]]]\n",
      "[[[ 1  2  3]\n",
      "  [ 7  8  9]]\n",
      "\n",
      " [[ 3  4  5]\n",
      "  [10 12 13]]]\n",
      "[[[ 1  7]\n",
      "  [ 2  8]\n",
      "  [ 3  9]]\n",
      "\n",
      " [[ 3 10]\n",
      "  [ 4 12]\n",
      "  [ 5 13]]]\n"
     ]
    }
   ],
   "source": [
    "import  numpy as np\n",
    "first=np.array([[1,2,3],[3,4,5]])\n",
    "second=np.array([[7,8,9],[10,12,13]])\n",
    "third=np.stack((first,second),axis=0)\n",
    "print(third)\n",
    "fourth=np.stack((first,second),axis=1)\n",
    "print(fourth)\n",
    "fifth=np.stack((first,second),axis=2)\n",
    "print(fifth)\n",
    "\n"
   ]
  },
  {
   "cell_type": "markdown",
   "metadata": {},
   "source": [
    "6) create two one-d arrays and then find out:\n",
    "\ta) common elements of both the array\n",
    "\tb) unique elements of first array\n",
    "\tc) unique elements of second array"
   ]
  },
  {
   "cell_type": "code",
   "execution_count": 22,
   "metadata": {},
   "outputs": [
    {
     "name": "stdout",
     "output_type": "stream",
     "text": [
      "[1 4]\n",
      "***************\n",
      "[1 2 3 4 5]\n",
      "***************\n",
      "[1 4 6 7 9]\n",
      "***************\n",
      "[2 3 5]\n"
     ]
    }
   ],
   "source": [
    "import numpy as np\n",
    "first=np.array([1,2,3,4,5])\n",
    "second=np.array([6,7,4,9,1])\n",
    "third=np.intersect1d(first,second)\n",
    "print(third)\n",
    "print(\"***************\")\n",
    "forth=np.unique(first)\n",
    "print(forth)\n",
    "print(\"***************\")\n",
    "fifth=np.unique(second)\n",
    "print(fifth)\n",
    "print(\"***************\")\n",
    "sixth=np.setdiff1d(first,second)\n",
    "print(sixth)"
   ]
  },
  {
   "cell_type": "markdown",
   "metadata": {},
   "source": [
    "7) accept no.of rows and no. of cols from the user , create two-d array accordingly. Now calculate the sum as per \"axis=0\" and \"axis=1\""
   ]
  },
  {
   "cell_type": "code",
   "execution_count": null,
   "metadata": {},
   "outputs": [],
   "source": [
    "import numpy as np\n",
    "rownum=int(input(\"enter the rows\"))\n",
    "colnum=int(input(\"enter the colunm\"))\n",
    "first=np.random.randint(1,100,size=(rownum,colnum))\n",
    "print(first)\n",
    "second=np.sum(first,axis=0)\n",
    "print(second)\n",
    "third=np.sum(first,axis=1)\n",
    "print(third)"
   ]
  },
  {
   "cell_type": "markdown",
   "metadata": {},
   "source": [
    "8) declare two 2d arrays and calculate the sum as per \"axis=0\" \"axis=1\" and \"axis=2\"\n"
   ]
  },
  {
   "cell_type": "code",
   "execution_count": 23,
   "metadata": {},
   "outputs": [
    {
     "name": "stdout",
     "output_type": "stream",
     "text": [
      "[[ 1  2  3  4  5]\n",
      " [ 6  7  8  9 10]]\n",
      "[[10 20 30 40 50]\n",
      " [60 70 80 90 10]]\n",
      "[[11 22 33 44 55]\n",
      " [66 77 88 99 20]]\n",
      "[[  7   9  11  13  15]\n",
      " [ 70  90 110 130  60]]\n",
      "[[ 15  40]\n",
      " [150 310]]\n"
     ]
    }
   ],
   "source": [
    "import numpy as np\n",
    "first=np.array([[1,2,3,4,5],[6,7,8,9,10]])\n",
    "second=np.array([[10,20,30,40,50],[60,70,80,90,10]])\n",
    "print(first)\n",
    "print(second)\n",
    "third=np.sum((first,second),axis=0)\n",
    "print(third)\n",
    "forth=np.sum((first,second),axis=1)\n",
    "print(forth)\n",
    "fifth=np.sum((first,second),axis=2)\n",
    "print(fifth)"
   ]
  },
  {
   "cell_type": "markdown",
   "metadata": {},
   "source": [
    "10) accept start, end and how many numbers to be generated and then using \"linspace\" create numpy array."
   ]
  },
  {
   "cell_type": "code",
   "execution_count": 24,
   "metadata": {},
   "outputs": [
    {
     "name": "stdout",
     "output_type": "stream",
     "text": [
      "[30.         30.55555556 31.11111111 31.66666667 32.22222222 32.77777778\n",
      " 33.33333333 33.88888889 34.44444444 35.        ]\n"
     ]
    }
   ],
   "source": [
    "import  numpy as np\n",
    "first=np.linspace(30,35,num=10)\n",
    "print(first)\n"
   ]
  },
  {
   "cell_type": "markdown",
   "metadata": {},
   "source": [
    "11) create one-d array of 8 numbers and then using \"slicing\" concept,\n",
    "\ta) print numbers from 1 to 4\n",
    "\tb) print all the numbers from 3rd position\n",
    "\tc) print last 3 numbers"
   ]
  },
  {
   "cell_type": "code",
   "execution_count": 25,
   "metadata": {},
   "outputs": [
    {
     "name": "stdout",
     "output_type": "stream",
     "text": [
      "[1 2 3 4 5 6 7 8]\n",
      "[2 3 4 5]\n",
      "[4 5 6 7 8]\n",
      "[6 7 8]\n"
     ]
    }
   ],
   "source": [
    "import numpy as np\n",
    "first=np.array([1,2,3,4,5,6,7,8])\n",
    "print(first)\n",
    "second=first[1:5]\n",
    "print(second)\n",
    "third=first[3:]\n",
    "print(third)\n",
    "forth=first[-3:]\n",
    "print(forth)"
   ]
  },
  {
   "cell_type": "markdown",
   "metadata": {},
   "source": [
    "12) create 2 d array (4*3) with following values:\n",
    "[[10,20,30,40],[50,60,70,80],[90,100,110,120]]\n",
    "\n",
    "now using array slicing concept display following values\n",
    "\ta) display   50  60  70  80\n",
    "\tb) display 100 and 110\n",
    "\tc) display 30 70 and 110\n",
    "\td) display 50  60  90 and 100"
   ]
  },
  {
   "cell_type": "code",
   "execution_count": 35,
   "metadata": {},
   "outputs": [
    {
     "name": "stdout",
     "output_type": "stream",
     "text": [
      "[[ 10  20  30  40]\n",
      " [ 50  60  70  80]\n",
      " [ 90 100 110 120]]\n",
      "************************\n",
      "[[50 60 70 80]]\n",
      "************************\n",
      "[[100 110]]\n",
      "************************\n",
      "[[ 30]\n",
      " [ 70]\n",
      " [110]]\n",
      "************************\n",
      "[[ 50  60]\n",
      " [ 90 100]]\n"
     ]
    }
   ],
   "source": [
    "import numpy as np\n",
    "first=np.array([[10,20,30,40],[50,60,70,80],[90,100,110,120]])\n",
    "print(first)\n",
    "print(\"************************\")\n",
    "second=first[1:2]\n",
    "print(second)\n",
    "print(\"************************\")\n",
    "third=first[2:3,1:3]\n",
    "print(third)\n",
    "print(\"************************\")\n",
    "forth=first[:,2:3]\n",
    "print(forth)\n",
    "print(\"************************\")\n",
    "fifth=first[1:3,:2]\n",
    "print(fifth)\n"
   ]
  }
 ],
 "metadata": {
  "kernelspec": {
   "display_name": "Python 3",
   "language": "python",
   "name": "python3"
  },
  "language_info": {
   "codemirror_mode": {
    "name": "ipython",
    "version": 3
   },
   "file_extension": ".py",
   "mimetype": "text/x-python",
   "name": "python",
   "nbconvert_exporter": "python",
   "pygments_lexer": "ipython3",
   "version": "3.12.0"
  }
 },
 "nbformat": 4,
 "nbformat_minor": 2
}
